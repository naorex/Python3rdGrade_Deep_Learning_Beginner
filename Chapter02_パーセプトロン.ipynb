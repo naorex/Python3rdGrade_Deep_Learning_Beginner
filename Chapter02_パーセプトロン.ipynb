{
  "nbformat": 4,
  "nbformat_minor": 0,
  "metadata": {
    "colab": {
      "provenance": [],
      "toc_visible": true,
      "gpuType": "T4",
      "authorship_tag": "ABX9TyOXyEArkCUSEsls6jclLWOO",
      "include_colab_link": true
    },
    "kernelspec": {
      "name": "python3",
      "display_name": "Python 3"
    },
    "language_info": {
      "name": "python"
    },
    "accelerator": "GPU"
  },
  "cells": [
    {
      "cell_type": "markdown",
      "metadata": {
        "id": "view-in-github",
        "colab_type": "text"
      },
      "source": [
        "<a href=\"https://colab.research.google.com/github/naorex/Python3rdGrade_Deep_Learning_Beginner/blob/main/Chapter02_%E3%83%91%E3%83%BC%E3%82%BB%E3%83%97%E3%83%88%E3%83%AD%E3%83%B3.ipynb\" target=\"_parent\"><img src=\"https://colab.research.google.com/assets/colab-badge.svg\" alt=\"Open In Colab\"/></a>"
      ]
    },
    {
      "cell_type": "markdown",
      "source": [
        "# AND回路"
      ],
      "metadata": {
        "id": "Q0dB-185HOBy"
      }
    },
    {
      "cell_type": "markdown",
      "source": [
        "## 普通のロジック"
      ],
      "metadata": {
        "id": "79guO2NxIaqs"
      }
    },
    {
      "cell_type": "code",
      "source": [
        "x1 = [0,1,0,1]\n",
        "x2 = [0,0,1,1]\n",
        "\n",
        "def test(x1,x2):\n",
        "    if x1 == 1 and x2 == 1:\n",
        "        return 1\n",
        "    else:\n",
        "        return 0\n",
        "\n",
        "def disp_result(func):\n",
        "    for i in range(4):\n",
        "        Y = func(x1[i],x2[i])\n",
        "        print(f\"{x1[i]},{x2[i]} = {Y}\")\n",
        "\n",
        "disp_result(test)"
      ],
      "metadata": {
        "colab": {
          "base_uri": "https://localhost:8080/"
        },
        "id": "3Vv9-SMjHlOf",
        "outputId": "c13cbf53-e165-4fee-c187-1644b52d49c9"
      },
      "execution_count": 17,
      "outputs": [
        {
          "output_type": "stream",
          "name": "stdout",
          "text": [
            "0,0 = 0\n",
            "1,0 = 0\n",
            "0,1 = 0\n",
            "1,1 = 1\n"
          ]
        }
      ]
    },
    {
      "cell_type": "markdown",
      "source": [
        "## パーセプトロンで実装"
      ],
      "metadata": {
        "id": "w2J_z9sjIduz"
      }
    },
    {
      "cell_type": "code",
      "source": [
        "def and_test(x1,x2):\n",
        "    w1,w2,theta = 0.5,0.5,0.8\n",
        "    tmp = w1*x1 + w2*x2\n",
        "    if tmp > theta:\n",
        "        return 1\n",
        "    else:\n",
        "        return 0\n",
        "\n",
        "disp_result(and_test)"
      ],
      "metadata": {
        "colab": {
          "base_uri": "https://localhost:8080/"
        },
        "id": "-dI_6szAIff3",
        "outputId": "4ed2a612-1127-4b61-a6d1-97fb7a2be939"
      },
      "execution_count": 18,
      "outputs": [
        {
          "output_type": "stream",
          "name": "stdout",
          "text": [
            "0,0 = 0\n",
            "1,0 = 0\n",
            "0,1 = 0\n",
            "1,1 = 1\n"
          ]
        }
      ]
    },
    {
      "cell_type": "markdown",
      "source": [
        "### 可視化"
      ],
      "metadata": {
        "id": "IKbw-bWTI-76"
      }
    },
    {
      "cell_type": "code",
      "source": [
        "import numpy as np\n",
        "import matplotlib.pyplot as plt\n",
        "\n",
        "def fillscolors(data):\n",
        "    return \"#ffc2c2\" if data > 0 else \"#c6dcec\"\n",
        "def dotscolors(data):\n",
        "    return \"#ff0e0e\" if data > 0 else \"#1f77b4\"\n",
        "\n",
        "def plot_perceptron(func,x1,x2):\n",
        "    plt.figure(figsize=(6,6))\n",
        "    xx, yy = np.meshgrid(\n",
        "        np.linspace(-0.25,1.25,200),\n",
        "        np.linspace(-0.25,1.25,200))\n",
        "    xx = np.array(xx).flatten()\n",
        "    yy = np.array(yy).flatten()\n",
        "    fills = []\n",
        "    colors = []\n",
        "    for i in range(len(xx)):\n",
        "        fills.append(func(xx[i],yy[i]))\n",
        "        colors.append(fillscolors(fills[i]))\n",
        "    plt.scatter(xx,yy,c=colors)\n",
        "\n",
        "    dots = []\n",
        "    colors = []\n",
        "    for i in range(len(x1)):\n",
        "        dots.append(func(x1[i],x2[i]))\n",
        "        colors.append(dotscolors(dots[i]))\n",
        "    plt.scatter(x1,x2,c=colors)\n",
        "\n",
        "    plt.xlabel(\"x1\")\n",
        "    plt.ylabel(\"x2\")\n",
        "    plt.show()\n",
        "\n",
        "plot_perceptron(and_test,x1,x2)"
      ],
      "metadata": {
        "colab": {
          "base_uri": "https://localhost:8080/",
          "height": 542
        },
        "id": "zx3vi0BFJAcS",
        "outputId": "ce7822f4-5ed6-4fab-a251-a41f4dad9d3c"
      },
      "execution_count": 19,
      "outputs": [
        {
          "output_type": "display_data",
          "data": {
            "text/plain": [
              "<Figure size 600x600 with 1 Axes>"
            ],
            "image/png": "[encoded data removed]"
          },
          "metadata": {}
        }
      ]
    }
  ]
}